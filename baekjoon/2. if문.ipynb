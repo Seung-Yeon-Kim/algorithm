{
 "cells": [
  {
   "cell_type": "markdown",
   "metadata": {},
   "source": [
    "# 1. 두 수 비교하기"
   ]
  },
  {
   "cell_type": "code",
   "execution_count": null,
   "metadata": {},
   "outputs": [],
   "source": [
    "a = input().split(' ')\n",
    "A,B = int(a[0]), int(a[1])\n",
    "if A < B:\n",
    "    print('<')\n",
    "elif A > B:\n",
    "    print('>')\n",
    "else:\n",
    "    print('==')"
   ]
  },
  {
   "cell_type": "markdown",
   "metadata": {},
   "source": [
    "# 2. 시험 성적"
   ]
  },
  {
   "cell_type": "code",
   "execution_count": null,
   "metadata": {},
   "outputs": [],
   "source": [
    "a = int(input())\n",
    "if a >= 90:\n",
    "    print('A')\n",
    "elif a >= 80:\n",
    "    print('B')\n",
    "elif a >= 70:\n",
    "    print('C')\n",
    "elif a >= 60:\n",
    "    print('D')\n",
    "else:\n",
    "    print('F')"
   ]
  },
  {
   "cell_type": "markdown",
   "metadata": {},
   "source": [
    "# 3. 윤년"
   ]
  },
  {
   "cell_type": "code",
   "execution_count": null,
   "metadata": {},
   "outputs": [],
   "source": [
    "a = int(input())\n",
    "if (a % 4 == 0 and a % 100 != 0 ) or a % 400 == 0:\n",
    "        print(1)\n",
    "else:\n",
    "    print(0)"
   ]
  },
  {
   "cell_type": "markdown",
   "metadata": {},
   "source": [
    "# 4. 사분면 고르기"
   ]
  },
  {
   "cell_type": "code",
   "execution_count": null,
   "metadata": {},
   "outputs": [],
   "source": [
    "x = int(input())\n",
    "y = int(input())\n",
    "if x > 0 and y > 0:\n",
    "    print(1)\n",
    "elif x < 0 and y > 0:\n",
    "    print(2)\n",
    "elif x < 0 and y < 0:\n",
    "    print(3)\n",
    "elif x >0 and y < 0:\n",
    "    print(4)"
   ]
  },
  {
   "cell_type": "markdown",
   "metadata": {},
   "source": [
    "# 5. 알람 시계"
   ]
  },
  {
   "cell_type": "code",
   "execution_count": null,
   "metadata": {},
   "outputs": [],
   "source": [
    "a = input().split(' ')\n",
    "h = int(a[0])\n",
    "m = int(a[1])\n",
    "if m - 45 < 0:\n",
    "    h = h -1\n",
    "    m = 60 + m - 45\n",
    "    if h < 0:\n",
    "        h = 23\n",
    "else:\n",
    "    m = m - 45\n",
    "print('{} {}'.format(h,m))"
   ]
  }
 ],
 "metadata": {
  "kernelspec": {
   "display_name": "Python 3",
   "language": "python",
   "name": "python3"
  },
  "language_info": {
   "codemirror_mode": {
    "name": "ipython",
    "version": 3
   },
   "file_extension": ".py",
   "mimetype": "text/x-python",
   "name": "python",
   "nbconvert_exporter": "python",
   "pygments_lexer": "ipython3",
   "version": "3.8.3"
  }
 },
 "nbformat": 4,
 "nbformat_minor": 4
}
