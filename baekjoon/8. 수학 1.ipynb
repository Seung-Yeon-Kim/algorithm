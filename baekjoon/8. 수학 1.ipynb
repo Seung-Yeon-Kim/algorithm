{
 "cells": [
  {
   "cell_type": "markdown",
   "metadata": {},
   "source": [
    "# 1. 손익분기점"
   ]
  },
  {
   "cell_type": "code",
   "execution_count": 9,
   "metadata": {},
   "outputs": [
    {
     "name": "stdout",
     "output_type": "stream",
     "text": [
      "1000 70 170\n",
      "11\n"
     ]
    }
   ],
   "source": [
    "a = list(map(int, input().split(' ')))\n",
    "\n",
    "if a[2] <= a[1]:\n",
    "    print(-1)\n",
    "else:\n",
    "    x = a[0] / (a[2]-a[1]) + 1\n",
    "    print(int(x))"
   ]
  },
  {
   "cell_type": "markdown",
   "metadata": {},
   "source": [
    "# 2. 설탕 배달"
   ]
  },
  {
   "cell_type": "code",
   "execution_count": 49,
   "metadata": {},
   "outputs": [
    {
     "name": "stdout",
     "output_type": "stream",
     "text": [
      "7\n",
      "-1\n"
     ]
    }
   ],
   "source": [
    "a = int(input())\n",
    "if a % 5 != 0:\n",
    "    five = a //5 + 1\n",
    "    while five >= -1:\n",
    "        suger = a - (five * 5)\n",
    "        if five == -1:\n",
    "            print(-1)\n",
    "            break\n",
    "        elif suger <=0 or suger % 3 != 0:\n",
    "            five -= 1\n",
    "        else:\n",
    "            print(five + int(suger/3))\n",
    "            break\n",
    "else:\n",
    "    print(int(a/5))\n"
   ]
  },
  {
   "cell_type": "markdown",
   "metadata": {},
   "source": [
    "# 3. 벌집"
   ]
  },
  {
   "cell_type": "code",
   "execution_count": 53,
   "metadata": {},
   "outputs": [
    {
     "name": "stdout",
     "output_type": "stream",
     "text": [
      "58\n",
      "5\n"
     ]
    }
   ],
   "source": [
    "a = int(input())\n",
    "count = 1\n",
    "hexagon = 1\n",
    "while True:\n",
    "    if hexagon >= a:\n",
    "        print(count)\n",
    "        break\n",
    "    else:\n",
    "        hexagon += (count * 6)\n",
    "        count += 1"
   ]
  },
  {
   "cell_type": "markdown",
   "metadata": {},
   "source": [
    "# 4. 분수찾기"
   ]
  },
  {
   "cell_type": "code",
   "execution_count": null,
   "metadata": {},
   "outputs": [],
   "source": [
    "a = int(input())\n",
    "count = 0\n",
    "total = 0\n",
    "while True:\n",
    "    if a > total:\n",
    "        count += 1\n",
    "        total += count\n",
    "    else:\n",
    "        break\n",
    "ta = total-a\n",
    "if count % 2 == 1:\n",
    "    print('{}/{}'.format(ta+1,count-ta))\n",
    "else:\n",
    "    print('{}/{}'.format(count-ta,ta+1))"
   ]
  },
  {
   "cell_type": "code",
   "execution_count": null,
   "metadata": {},
   "outputs": [],
   "source": [
    "5."
   ]
  },
  {
   "cell_type": "code",
   "execution_count": null,
   "metadata": {},
   "outputs": [],
   "source": [
    "a,b,v = list(map(int, input().split(' ')))\n",
    "d = v - a\n",
    "if d / (a-b) == 0:\n",
    "    print(1 + int(d // (a-b)))\n",
    "else:\n",
    "    print(2 + int(d // (a-b)))"
   ]
  }
 ],
 "metadata": {
  "kernelspec": {
   "display_name": "Python 3",
   "language": "python",
   "name": "python3"
  },
  "language_info": {
   "codemirror_mode": {
    "name": "ipython",
    "version": 3
   },
   "file_extension": ".py",
   "mimetype": "text/x-python",
   "name": "python",
   "nbconvert_exporter": "python",
   "pygments_lexer": "ipython3",
   "version": "3.8.3"
  }
 },
 "nbformat": 4,
 "nbformat_minor": 4
}
