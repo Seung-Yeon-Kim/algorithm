{
 "cells": [
  {
   "cell_type": "markdown",
   "metadata": {},
   "source": [
    "# 1. 아스키 코드"
   ]
  },
  {
   "cell_type": "code",
   "execution_count": null,
   "metadata": {},
   "outputs": [],
   "source": [
    "a = input()\n",
    "print(ord(a))"
   ]
  },
  {
   "cell_type": "markdown",
   "metadata": {},
   "source": [
    "# 2. 숫자의 합"
   ]
  },
  {
   "cell_type": "code",
   "execution_count": null,
   "metadata": {},
   "outputs": [],
   "source": [
    "a = int(input())\n",
    "b = input()\n",
    "total = 0\n",
    "for i in range(a):\n",
    "    total += int(b[i])\n",
    "print(total)"
   ]
  },
  {
   "cell_type": "markdown",
   "metadata": {},
   "source": [
    "# 3. 알파벳 찾기"
   ]
  },
  {
   "cell_type": "code",
   "execution_count": null,
   "metadata": {},
   "outputs": [],
   "source": [
    "a = input()\n",
    "for i in range(97,123):\n",
    "    if chr(i) in a:\n",
    "        print(a.find(chr(i)),end =' ')\n",
    "    else:\n",
    "        print(-1, end = ' ')"
   ]
  },
  {
   "cell_type": "markdown",
   "metadata": {},
   "source": [
    "# 4. 문자열 반복"
   ]
  },
  {
   "cell_type": "code",
   "execution_count": null,
   "metadata": {},
   "outputs": [],
   "source": [
    "a = int(input())\n",
    "b = []\n",
    "for i in range(a):\n",
    "    b.append(input())\n",
    "for i in b:\n",
    "    for j in range(1, len(i)):\n",
    "        if i[j] in '0123456789ABCDEFGHIJKLMNOPQRSTUVWXYZ\\$%*+-./:':\n",
    "            for k in range(int(i[0])):\n",
    "                    print(i[j], end = '')\n",
    "    print()"
   ]
  },
  {
   "cell_type": "markdown",
   "metadata": {},
   "source": [
    "# 5. 단어 공부"
   ]
  },
  {
   "cell_type": "code",
   "execution_count": 28,
   "metadata": {},
   "outputs": [
    {
     "name": "stdout",
     "output_type": "stream",
     "text": [
      "aabbbbbcccccc\n",
      "{'A': 2, 'B': 5, 'C': 6}\n",
      "C\n"
     ]
    }
   ],
   "source": [
    "a = input().upper()\n",
    "dic = {}\n",
    "for i in a:\n",
    "    dic[i] = dic.get(i, 0) + 1\n",
    "max_ch = ''\n",
    "max_in = 0\n",
    "for k, v in dic.items():\n",
    "    if v > max_in:\n",
    "        max_ch = k\n",
    "        max_in = v\n",
    "    elif v == max_in:\n",
    "        max_ch = '?'\n",
    "        max_in = v\n",
    "    else:\n",
    "        pass\n",
    "print(max_ch)"
   ]
  },
  {
   "cell_type": "markdown",
   "metadata": {},
   "source": [
    "# 6. 단어의 개수"
   ]
  },
  {
   "cell_type": "code",
   "execution_count": 48,
   "metadata": {},
   "outputs": [
    {
     "name": "stdout",
     "output_type": "stream",
     "text": [
      "   \n",
      "0\n"
     ]
    }
   ],
   "source": [
    "a = input().strip()\n",
    "a = a.split(' ')\n",
    "for i in a:\n",
    "    if i  == '':\n",
    "        a.remove(i)\n",
    "print(len(a))\n"
   ]
  },
  {
   "cell_type": "markdown",
   "metadata": {},
   "source": [
    "# 7. 상수"
   ]
  },
  {
   "cell_type": "code",
   "execution_count": 52,
   "metadata": {},
   "outputs": [
    {
     "name": "stdout",
     "output_type": "stream",
     "text": [
      "123 456\n",
      "654\n"
     ]
    }
   ],
   "source": [
    "a = input()\n",
    "num = ''\n",
    "for i in range(len(a)-1, -1, -1):\n",
    "    num = num + a[i]\n",
    "list_num = num.split(' ')\n",
    "if int(list_num[0]) > int(list_num[1]):\n",
    "    print(list_num[0])\n",
    "else:\n",
    "    print(list_num[1])"
   ]
  },
  {
   "cell_type": "markdown",
   "metadata": {},
   "source": [
    "# 8. 다이얼"
   ]
  },
  {
   "cell_type": "code",
   "execution_count": 54,
   "metadata": {},
   "outputs": [
    {
     "name": "stdout",
     "output_type": "stream",
     "text": [
      "UNUCIC\n",
      "36\n"
     ]
    }
   ],
   "source": [
    "a = input()\n",
    "time = 0\n",
    "for i in a:\n",
    "    if i in 'ABC':\n",
    "        time += 3\n",
    "    elif i in 'DEF':\n",
    "        time += 4\n",
    "    elif i in 'GHI':\n",
    "        time += 5\n",
    "    elif i in 'JKL':\n",
    "        time += 6\n",
    "    elif i in 'MNO':\n",
    "        time += 7\n",
    "    elif i in 'PQRS':\n",
    "        time += 8\n",
    "    elif i in 'TUV':\n",
    "        time += 9\n",
    "    elif i in 'WXYZ':\n",
    "        time += 10\n",
    "print(time)"
   ]
  },
  {
   "cell_type": "markdown",
   "metadata": {},
   "source": [
    "# 9. 크로아티아 알파벳"
   ]
  },
  {
   "cell_type": "code",
   "execution_count": 8,
   "metadata": {},
   "outputs": [
    {
     "name": "stdout",
     "output_type": "stream",
     "text": [
      "nljj\n",
      "3\n"
     ]
    }
   ],
   "source": [
    "a = input()\n",
    "croatia = ['c=','c-','dz=','d-','lj','nj','s=','z=']\n",
    "count = 0\n",
    "for i in range(len(croatia)):\n",
    "    if croatia[i] in a:\n",
    "        a = a.replace(croatia[i], str(i))\n",
    "\n",
    "print(len(a))"
   ]
  },
  {
   "cell_type": "markdown",
   "metadata": {},
   "source": [
    "# 10. 그룹 단어 체커"
   ]
  },
  {
   "cell_type": "code",
   "execution_count": 75,
   "metadata": {},
   "outputs": [
    {
     "name": "stdout",
     "output_type": "stream",
     "text": [
      "4\n",
      "aba\n",
      "abba\n",
      "abcabc\n",
      "a\n",
      "1\n"
     ]
    }
   ],
   "source": [
    "a = int(input())\n",
    "word = []\n",
    "for i in range(a):\n",
    "    word.append(input())\n",
    "count = 0\n",
    "for i in word:\n",
    "    tf = True\n",
    "    for j in range(1, len(i)-1):\n",
    "        if i[j] != i[j+1]:\n",
    "            if i[j+1] in i[:j]:\n",
    "                tf = False\n",
    "                break\n",
    "        else:\n",
    "            pass\n",
    "    if tf:\n",
    "        count += 1\n",
    "print(count)"
   ]
  }
 ],
 "metadata": {
  "kernelspec": {
   "display_name": "Python 3",
   "language": "python",
   "name": "python3"
  },
  "language_info": {
   "codemirror_mode": {
    "name": "ipython",
    "version": 3
   },
   "file_extension": ".py",
   "mimetype": "text/x-python",
   "name": "python",
   "nbconvert_exporter": "python",
   "pygments_lexer": "ipython3",
   "version": "3.8.3"
  }
 },
 "nbformat": 4,
 "nbformat_minor": 4
}
