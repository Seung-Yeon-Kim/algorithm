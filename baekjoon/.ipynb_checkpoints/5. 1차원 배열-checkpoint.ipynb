{
 "cells": [
  {
   "cell_type": "markdown",
   "metadata": {},
   "source": [
    "# 1. 최소, 최대"
   ]
  },
  {
   "cell_type": "code",
   "execution_count": 16,
   "metadata": {},
   "outputs": [
    {
     "name": "stdout",
     "output_type": "stream",
     "text": [
      "5\n",
      "1 2 3 4 5\n",
      "1 5\n"
     ]
    }
   ],
   "source": [
    "a = int(input())\n",
    "b = list(map(int, input().split()))\n",
    "min = b[0]\n",
    "max = b[0]\n",
    "for i in b:\n",
    "    if min > i:\n",
    "        min = i\n",
    "for i in b:\n",
    "    if max < i:\n",
    "        max = i\n",
    "print(min, max)"
   ]
  },
  {
   "cell_type": "markdown",
   "metadata": {},
   "source": [
    "# 2. 최댓값"
   ]
  },
  {
   "cell_type": "code",
   "execution_count": 47,
   "metadata": {},
   "outputs": [
    {
     "name": "stdout",
     "output_type": "stream",
     "text": [
      "3\n",
      "29\n",
      "38\n",
      "12\n",
      "57\n",
      "74\n",
      "40\n",
      "85\n",
      "61\n",
      "85\n",
      "8\n"
     ]
    }
   ],
   "source": [
    "a = []\n",
    "for i in range(9):\n",
    "    a.append(int(input()))\n",
    "max = a[0]\n",
    "index = 0\n",
    "for i in range(len(a)):\n",
    "    if max < a[i]:\n",
    "        max = a[i]\n",
    "        index = i\n",
    "print(max)\n",
    "print(index+1)"
   ]
  },
  {
   "cell_type": "markdown",
   "metadata": {},
   "source": [
    "# 3. 숫자의 개수"
   ]
  },
  {
   "cell_type": "code",
   "execution_count": 60,
   "metadata": {},
   "outputs": [
    {
     "name": "stdout",
     "output_type": "stream",
     "text": [
      "10\n",
      "20\n",
      "30\n",
      "3\n",
      "0\n",
      "0\n",
      "0\n",
      "0\n",
      "0\n",
      "1\n",
      "0\n",
      "0\n",
      "0\n"
     ]
    }
   ],
   "source": [
    "mul = 1\n",
    "for i in range(3):\n",
    "    mul = mul * int(input())\n",
    "dic_mul = {}\n",
    "for i in str(mul):\n",
    "    dic_mul[i] = dic_mul.get(i, 0 ) + 1\n",
    "for i in range(10):\n",
    "    if str(i) in dic_mul.keys():\n",
    "        print(dic_mul[str(i)])\n",
    "    else:\n",
    "        print(0)"
   ]
  },
  {
   "cell_type": "markdown",
   "metadata": {},
   "source": [
    "# 4. 나머지"
   ]
  },
  {
   "cell_type": "code",
   "execution_count": 63,
   "metadata": {},
   "outputs": [
    {
     "name": "stdout",
     "output_type": "stream",
     "text": [
      "10\n",
      "11\n",
      "11\n",
      "20\n",
      "30\n",
      "40\n",
      "10\n",
      "15\n",
      "22\n",
      "23\n",
      "8\n"
     ]
    }
   ],
   "source": [
    "a = []\n",
    "na = []\n",
    "for i in range(10):\n",
    "    a.append(int(input()))\n",
    "for i in a:\n",
    "    na.append(i%42)\n",
    "print(len(set(na)))\n",
    "    "
   ]
  },
  {
   "cell_type": "markdown",
   "metadata": {},
   "source": [
    "# 5. 평균"
   ]
  },
  {
   "cell_type": "code",
   "execution_count": 74,
   "metadata": {},
   "outputs": [
    {
     "name": "stdout",
     "output_type": "stream",
     "text": [
      "3\n",
      "10 20 30\n",
      "66.67\n"
     ]
    }
   ],
   "source": [
    "subject = int(input())\n",
    "score = list(map(int, input().split()))\n",
    "new_score = []\n",
    "max_score = 0\n",
    "total = 0\n",
    "for i in score:\n",
    "    if i > max_score:\n",
    "        max_score = i\n",
    "for i in range(subject):\n",
    "    new_score.append(score[i]/max_score*100)\n",
    "for i in new_score:\n",
    "    total += i\n",
    "print('%.2f'%(total/subject))"
   ]
  },
  {
   "cell_type": "markdown",
   "metadata": {},
   "source": [
    "# 6. OX퀴즈"
   ]
  },
  {
   "cell_type": "code",
   "execution_count": 97,
   "metadata": {},
   "outputs": [
    {
     "name": "stdout",
     "output_type": "stream",
     "text": [
      "5\n",
      "OOXXOXXOOO\n",
      "OOXXOOXXOO\n",
      "OXOXOXOXOXOXOX\n",
      "OOOOOOOOOO\n",
      "OOOOXOOOOXOOOOX\n",
      "10\n",
      "9\n",
      "7\n",
      "55\n",
      "30\n"
     ]
    }
   ],
   "source": [
    "a = int(input())\n",
    "ox = []\n",
    "for i in range(a):\n",
    "    ox.append(input())\n",
    "for st in ox:\n",
    "    pre = 'X'\n",
    "    score = 1\n",
    "    total = 0\n",
    "    for i in st:\n",
    "        if i == 'O':\n",
    "            if pre == 'O':\n",
    "                score += 1\n",
    "                pre = i\n",
    "            else:\n",
    "                pre = i\n",
    "            total += score\n",
    "        else:\n",
    "            score = 0\n",
    "            pre = i\n",
    "            total += score\n",
    "            score = 1\n",
    "    print(total)"
   ]
  },
  {
   "cell_type": "markdown",
   "metadata": {},
   "source": [
    "# 7. 평균은 넘겠지"
   ]
  },
  {
   "cell_type": "code",
   "execution_count": 119,
   "metadata": {},
   "outputs": [
    {
     "name": "stdout",
     "output_type": "stream",
     "text": [
      "5\n",
      "5 50 50 70 80 100\n",
      "7 100 98 90 80 70 60 50\n",
      "3 70 90 80\n",
      "3 70 90 81\n",
      "9 100 99 98 97 96 95 94 93 91\n",
      "[[5, 50, 50, 70, 80, 100], [7, 100, 98, 90, 80, 70, 60, 50], [3, 70, 90, 80], [3, 70, 90, 81], [9, 100, 99, 98, 97, 96, 95, 94, 93, 91]]\n",
      "40.000%\n",
      "57.143%\n",
      "33.333%\n",
      "66.667%\n",
      "55.556%\n"
     ]
    }
   ],
   "source": [
    "a = int(input())\n",
    "score = []\n",
    "for i in range(a):\n",
    "    score.append(list(map(int,input().split())))\n",
    "for i in score:\n",
    "    mean = 0\n",
    "    total = 0\n",
    "    count = 0\n",
    "    for j in i[1:]:\n",
    "        total += j\n",
    "    mean = total/i[0]\n",
    "    for j in i[1:]:\n",
    "        if j > mean:\n",
    "            count += 1\n",
    "    print('%.3f'%round(count/i[0]*100,3)+'%')"
   ]
  }
 ],
 "metadata": {
  "kernelspec": {
   "display_name": "Python 3",
   "language": "python",
   "name": "python3"
  },
  "language_info": {
   "codemirror_mode": {
    "name": "ipython",
    "version": 3
   },
   "file_extension": ".py",
   "mimetype": "text/x-python",
   "name": "python",
   "nbconvert_exporter": "python",
   "pygments_lexer": "ipython3",
   "version": "3.8.3"
  }
 },
 "nbformat": 4,
 "nbformat_minor": 4
}
